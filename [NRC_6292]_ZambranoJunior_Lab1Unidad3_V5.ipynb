{
 "cells": [
  {
   "cell_type": "markdown",
   "id": "dac63951",
   "metadata": {},
   "source": [
    "# Avance del proyecto\n",
    "### Detección de Automobiles Mediante AUV Basado en Transfer learning\n",
    "### Reconocimiento de X & y "
   ]
  },
  {
   "cell_type": "code",
   "execution_count": 1,
   "id": "126aa85f",
   "metadata": {
    "id": "yNj4DVaaYWWf"
   },
   "outputs": [],
   "source": [
    "'''Librerias'''\n",
    "import h5py\n",
    "import cv2\n",
    "import numpy as np\n",
    "import pandas as pd\n",
    "from sklearn.metrics import accuracy_score, precision_score, recall_score, f1_score, make_scorer\n",
    "from sklearn.metrics import confusion_matrix\n",
    "from sklearn.model_selection import train_test_split\n",
    "import keras\n",
    "from keras.datasets import cifar10\n",
    "from keras.preprocessing.image import ImageDataGenerator\n",
    "from keras.models import Sequential\n",
    "from keras.utils import np_utils\n",
    "from keras.layers import Dense, Activation, Flatten, Dropout, BatchNormalization,Conv2D,MaxPooling2D\n",
    "from keras.callbacks import ModelCheckpoint\n",
    "from keras import regularizers, optimizers\n",
    "from keras.regularizers import l2\n",
    "import matplotlib.pyplot as plt\n",
    "%matplotlib inline"
   ]
  },
  {
   "cell_type": "code",
   "execution_count": 2,
   "id": "48d8134a",
   "metadata": {},
   "outputs": [],
   "source": [
    "'''Testeo de datos'''\n",
    "test_size    = 0.20\n",
    "seed         = 6\n",
    "h5_color     = 'C:/Users/Junior/Desktop/Proyecto mineria/Features_Data/color_features.h5'\n",
    "h5_colorLb   = 'C:/Users/Junior/Desktop/Proyecto mineria/Features_Data/color_features_labels.h5'\n",
    "h5_texture   = 'C:/Users/Junior/Desktop/Proyecto mineria/Features_Data/textural_features.h5'\n",
    "h5_textureLb = 'C:/Users/Junior/Desktop/Proyecto mineria/Features_Data/textural_features_labels.h5'\n",
    "scoring      = {'accuracy' : make_scorer(accuracy_score),\n",
    "                'f1_score' : make_scorer(f1_score, average = 'weighted'), \n",
    "                'precision' : make_scorer(precision_score, average = 'weighted'),\n",
    "                'recall' : make_scorer(recall_score, average = 'weighted')}"
   ]
  },
  {
   "cell_type": "code",
   "execution_count": 3,
   "id": "80aa62c9",
   "metadata": {},
   "outputs": [
    {
     "name": "stdout",
     "output_type": "stream",
     "text": [
      "[STATUS] features shape: (2400, 4512)\n",
      "[STATUS] labels shape: (400, 512)\n",
      "[STATUS] training started...\n"
     ]
    }
   ],
   "source": [
    "'''Normalización'''\n",
    "\n",
    "'''importar el vector de características y las etiquetas entrenadas'''\n",
    "\n",
    "h5f_color   = h5py.File(h5_color, 'r')\n",
    "h5f_colorLb = h5py.File(h5_colorLb, 'r')\n",
    "\n",
    "color_features_string          = h5f_color['Vehicle_Color_Features']\n",
    "color_features_labels_string   = h5f_colorLb['Vehicle_Color_Features_Labels']\n",
    "\n",
    "color_features = np.array(color_features_string)\n",
    "color_features_labels  = np.array(color_features_labels_string)\n",
    "\n",
    "h5f_color.close()\n",
    "h5f_colorLb.close()\n",
    "\n",
    "'''verificar la forma del vector de características y las etiquetas'''\n",
    "\n",
    "print(\"[STATUS] features shape: {}\".format(color_features.shape))\n",
    "print(\"[STATUS] labels shape: {}\".format(color_features_labels.shape))\n",
    "print(\"[STATUS] training started...\")\n",
    "\n",
    "'''Dividir X & y'''\n",
    "x = global_features\n",
    "Y = color_features_labels"
   ]
  },
  {
   "cell_type": "code",
   "execution_count": 4,
   "id": "b0c8ce11",
   "metadata": {},
   "outputs": [],
   "source": [
    "'''Dividir X & y'''\n",
    "x = global_features\n",
    "Y = color_features_labels"
   ]
  },
  {
   "cell_type": "markdown",
   "id": "26117a7d",
   "metadata": {},
   "source": [
    "# MobileNetV2"
   ]
  },
  {
   "cell_type": "code",
   "execution_count": 5,
   "id": "7af426a3",
   "metadata": {},
   "outputs": [],
   "source": [
    "'''Librerias para MobileNet'''\n",
    "import os\n",
    "os.environ['TF_CPP_MIN_LOG_LEVEL'] = '3'\n",
    "\n",
    "from keras.preprocessing.image import ImageDataGenerator\n",
    "from keras.applications import MobileNetV2\n",
    "from keras.layers import AveragePooling2D\n",
    "from keras.layers import Dropout\n",
    "from keras.layers import Flatten\n",
    "from keras.layers import Dense\n",
    "from keras.layers import Input\n",
    "from keras.models import Model\n",
    "from keras.optimizers import Adam\n",
    "from keras.preprocessing.image import img_to_array\n",
    "from keras.preprocessing.image import load_img\n",
    "from keras.utils import to_categorical\n",
    "from keras.callbacks import ModelCheckpoint, EarlyStopping\n",
    "from keras.models import model_from_json\n",
    "from sklearn.preprocessing import LabelEncoder\n",
    "from sklearn.model_selection import train_test_split\n",
    "import matplotlib.pyplot as plt\n",
    "import matplotlib.gridspec as gridspec\n",
    "import glob\n",
    "import numpy as np"
   ]
  },
  {
   "cell_type": "code",
   "execution_count": 6,
   "id": "99815c6c",
   "metadata": {
    "colab": {
     "base_uri": "https://localhost:8080/"
    },
    "id": "z3lQnlfjeVvT",
    "outputId": "ee83bda3-0fd0-47b1-c8be-cbd8a1b74a53"
   },
   "outputs": [
    {
     "name": "stdout",
     "output_type": "stream",
     "text": [
      "x_train = (4500, 32, 32, 3)\n",
      "x_valid = (4500, 32, 32, 3)\n",
      "x_test = (4500, 32, 32, 3)\n"
     ]
    }
   ],
   "source": [
    "'''Definicion de '''\n",
    "x_train, x_test, y_train, y_test = train_test_split(x, Y,\n",
    "                                        test_size   = test_size,\n",
    "                                        random_state = seed)\n",
    "\n",
    "x_train.shape,x_test.shape\n",
    "\n",
    "(x_train, x_valid) = x_train[2000:], x_train[:2000]\n",
    "(y_train, y_valid) = y_train[2000:], y_train[:2000]\n",
    "\n",
    "#print the shape of x_train, x_valid, and x_test\n",
    "\n",
    "print('x_train =', x_train.shape)\n",
    "print('x_valid =', x_train.shape)\n",
    "print('x_test =', x_train.shape)"
   ]
  },
  {
   "cell_type": "code",
   "execution_count": 7,
   "id": "3bcc71a5",
   "metadata": {
    "colab": {
     "base_uri": "https://localhost:8080/"
    },
    "id": "wQ7p-aCrLepu",
    "outputId": "4d3dc3af-cbd0-4d95-e546-24114070a83e"
   },
   "outputs": [
    {
     "name": "stdout",
     "output_type": "stream",
     "text": [
      "[INFO] Find 5.567 images with 3 classes\n"
     ]
    }
   ],
   "source": [
    "'''Verificación datos de entrada y etiquetas correspondientes'''\n",
    "for image_path in dataset_paths:\n",
    "  label = image_path.split(os.path.sep)[-2]\n",
    "  image=load_img(image_path,target_size=(80,80))\n",
    "  image=img_to_array(image)\n",
    "\n",
    "'''Impresión de datos'''\n",
    "print(\"[INFO] Find {:d} images with {:d} classes\".format(len(X),len(set(labels))))\n",
    "\n",
    "'''guardar el archivo de etiqueta para que podamos usarlo en otro script'''\n",
    "np.save('license_character_classes.npy', lb.classes_)"
   ]
  },
  {
   "cell_type": "code",
   "execution_count": 8,
   "id": "7de3d563",
   "metadata": {
    "id": "Iqt_RqP0Lep0"
   },
   "outputs": [],
   "source": [
    "'''Definir modelo básico'''\n",
    "def create_model(lr=1e-4,decay=1e-4/25, training=False,output_shape=y.shape[1]):\n",
    "    #Determinar modelo MobileNet\n",
    "    baseModel = MobileNetV2(weights=\"imagenet\", \n",
    "                            include_top=False,\n",
    "                            input_tensor=Input(shape=(80, 80, 3)))\n",
    "    #Caraterización del modelo y capas\n",
    "    headModel = baseModel.output\n",
    "    headModel = AveragePooling2D(pool_size=(3, 3))(headModel)\n",
    "    headModel = Flatten(name=\"flatten\")(headModel)\n",
    "    headModel = Dense(128, activation=\"relu\")(headModel)\n",
    "    headModel = Dropout(0.5)(headModel)\n",
    "    headModel = Dense(output_shape, activation=\"softmax\")(headModel)\n",
    "    '''Defición final del modelo'''\n",
    "    model = Model(inputs=baseModel.input, outputs=headModel)\n",
    "    \n",
    "    if training:\n",
    "        # definir capa entrenable\n",
    "        for layer in baseModel.layers:\n",
    "            layer.trainable = True\n",
    "        # Compilar modelo\n",
    "        optimizer = Adam(lr=lr, decay = decay)\n",
    "        model.compile(loss=\"categorical_crossentropy\", optimizer=optimizer,metrics=[\"accuracy\"])    \n",
    "        \n",
    "    return model"
   ]
  },
  {
   "cell_type": "code",
   "execution_count": 9,
   "id": "47b1b84b",
   "metadata": {
    "colab": {
     "base_uri": "https://localhost:8080/",
     "height": 87
    },
    "id": "re5ESp6eLep2",
    "outputId": "1ee65f8d-d422-4c46-a3b0-d32f1d5b94fb"
   },
   "outputs": [
    {
     "name": "stdout",
     "output_type": "stream",
     "text": [
      "9412608/9406464 [==============================] - 4h34s 4us/step\n"
     ]
    }
   ],
   "source": [
    "'''Inicializar el hiperparámetro inicial'''\n",
    "INIT_LR = 1e-4\n",
    "'''Vueltas'''\n",
    "EPOCHS = 30\n",
    "'''Definición de modelo'''\n",
    "model = create_model(lr=INIT_LR, decay=INIT_LR/EPOCHS,training=True)"
   ]
  },
  {
   "cell_type": "code",
   "execution_count": 10,
   "id": "c8832f86",
   "metadata": {
    "colab": {
     "base_uri": "https://localhost:8080/",
     "height": 1000
    },
    "id": "vhhqQuQCLep5",
    "outputId": "6abb9a46-43b4-4f6d-ac34-3b073c4c9cde"
   },
   "outputs": [
    {
     "name": "stdout",
     "output_type": "stream",
     "text": [
      "Epoch 1/30\n",
      "12/12 [==============================] - ETA: 0s - loss: 1.3502 - accuracy: 0.6237\n",
      "Epoch 00001: saving model to License_character_recognition.h5\n",
      "12/12 [==============================] - 2s 180ms/step - loss: 1.3502 - accuracy: 0.6237 - val_loss: 3.4287 - val_accuracy: 0.3478\n",
      "Epoch 2/30\n",
      "12/12 [==============================] - ETA: 0s - loss: 1.2676 - accuracy: 0.6575\n",
      "Epoch 00002: saving model to License_character_recognition.h5\n",
      "12/12 [==============================] - 2s 184ms/step - loss: 1.2676 - accuracy: 0.6575 - val_loss: 2.9684 - val_accuracy: 0.3478\n",
      "Epoch 3/30\n",
      "12/12 [==============================] - ETA: 0s - loss: 0.9559 - accuracy: 0.7244\n",
      "Epoch 00003: saving model to License_character_recognition.h5\n",
      "12/12 [==============================] - 2s 145ms/step - loss: 0.9559 - accuracy: 0.7244 - val_loss: 2.8284 - val_accuracy: 0.3913\n",
      "Epoch 4/30\n",
      "12/12 [==============================] - ETA: 0s - loss: 0.8010 - accuracy: 0.7769\n",
      "Epoch 00004: saving model to License_character_recognition.h5\n",
      "12/12 [==============================] - 2s 148ms/step - loss: 0.8010 - accuracy: 0.7769 - val_loss: 2.7580 - val_accuracy: 0.4022\n",
      "Epoch 5/30\n",
      "12/12 [==============================] - ETA: 0s - loss: 0.6761 - accuracy: 0.8189\n",
      "Epoch 00005: saving model to License_character_recognition.h5\n",
      "12/12 [==============================] - 2s 163ms/step - loss: 0.6761 - accuracy: 0.8189 - val_loss: 2.6058 - val_accuracy: 0.4130\n",
      "Epoch 6/30\n",
      "12/12 [==============================] - ETA: 0s - loss: 0.5372 - accuracy: 0.8398\n",
      "Epoch 00006: saving model to License_character_recognition.h5\n",
      "12/12 [==============================] - 2s 154ms/step - loss: 0.5372 - accuracy: 0.8398 - val_loss: 2.5434 - val_accuracy: 0.4457\n",
      "Epoch 7/30\n",
      "12/12 [==============================] - ETA: 0s - loss: 0.5027 - accuracy: 0.8609\n",
      "Epoch 00007: saving model to License_character_recognition.h5\n",
      "12/12 [==============================] - 2s 148ms/step - loss: 0.5027 - accuracy: 0.8609 - val_loss: 2.3985 - val_accuracy: 0.4565\n",
      "Epoch 8/30\n",
      "12/12 [==============================] - ETA: 0s - loss: 0.4467 - accuracy: 0.8714\n",
      "Epoch 00008: saving model to License_character_recognition.h5\n",
      "12/12 [==============================] - 2s 149ms/step - loss: 0.4467 - accuracy: 0.8714 - val_loss: 2.1688 - val_accuracy: 0.4674\n",
      "Epoch 9/30\n",
      "12/12 [==============================] - ETA: 0s - loss: 0.3890 - accuracy: 0.8885\n",
      "Epoch 00009: saving model to License_character_recognition.h5\n",
      "12/12 [==============================] - 2s 148ms/step - loss: 0.3890 - accuracy: 0.8885 - val_loss: 2.0771 - val_accuracy: 0.5326\n",
      "Epoch 10/30\n",
      "12/12 [==============================] - ETA: 0s - loss: 0.3355 - accuracy: 0.9094\n",
      "Epoch 00010: saving model to License_character_recognition.h5\n",
      "12/12 [==============================] - 2s 150ms/step - loss: 0.3355 - accuracy: 0.9094 - val_loss: 2.0577 - val_accuracy: 0.5435\n",
      "Epoch 11/30\n",
      "12/12 [==============================] - ETA: 0s - loss: 0.3106 - accuracy: 0.9173\n",
      "Epoch 00011: saving model to License_character_recognition.h5\n",
      "12/12 [==============================] - 2s 152ms/step - loss: 0.3106 - accuracy: 0.9173 - val_loss: 2.0330 - val_accuracy: 0.5435\n",
      "Epoch 12/30\n",
      "12/12 [==============================] - ETA: 0s - loss: 0.2944 - accuracy: 0.9213\n",
      "Epoch 00012: saving model to License_character_recognition.h5\n",
      "12/12 [==============================] - 2s 150ms/step - loss: 0.2944 - accuracy: 0.9213 - val_loss: 1.8810 - val_accuracy: 0.5543\n",
      "Epoch 13/30\n",
      "12/12 [==============================] - ETA: 0s - loss: 0.2761 - accuracy: 0.9278\n",
      "Epoch 00013: saving model to License_character_recognition.h5\n",
      "12/12 [==============================] - 2s 150ms/step - loss: 0.2761 - accuracy: 0.9278 - val_loss: 1.8563 - val_accuracy: 0.6761\n",
      "Epoch 14/30\n",
      "12/12 [==============================] - ETA: 0s - loss: 0.2675 - accuracy: 0.9344\n",
      "Epoch 00014: saving model to License_character_recognition.h5\n",
      "12/12 [==============================] - 2s 151ms/step - loss: 0.2675 - accuracy: 0.9344 - val_loss: 1.7981 - val_accuracy: 0.6978\n",
      "Epoch 15/30\n",
      "12/12 [==============================] - ETA: 0s - loss: 0.2722 - accuracy: 0.9344\n",
      "Epoch 00015: saving model to License_character_recognition.h5\n",
      "12/12 [==============================] - 2s 148ms/step - loss: 0.2722 - accuracy: 0.9344 - val_loss: 1.7693 - val_accuracy: 0.7196\n",
      "Epoch 16/30\n",
      "12/12 [==============================] - ETA: 0s - loss: 0.2062 - accuracy: 0.9475\n",
      "Epoch 00016: saving model to License_character_recognition.h5\n",
      "12/12 [==============================] - 2s 150ms/step - loss: 0.2062 - accuracy: 0.9475 - val_loss: 1.7353 - val_accuracy: 0.7330\n",
      "Epoch 17/30\n",
      "12/12 [==============================] - ETA: 0s - loss: 0.2080 - accuracy: 0.9488\n",
      "Epoch 00017: saving model to License_character_recognition.h5\n",
      "12/12 [==============================] - 2s 150ms/step - loss: 0.2080 - accuracy: 0.9488 - val_loss: 1.6851 - val_accuracy: 0.7422\n",
      "Epoch 18/30\n",
      "12/12 [==============================] - ETA: 0s - loss: 0.1725 - accuracy: 0.9554\n",
      "Epoch 00018: saving model to License_character_recognition.h5\n",
      "12/12 [==============================] - 2s 147ms/step - loss: 0.1725 - accuracy: 0.9554 - val_loss: 1.6936 - val_accuracy: 0.7522\n",
      "Epoch 19/30\n",
      "12/12 [==============================] - ETA: 0s - loss: 0.1840 - accuracy: 0.9475\n",
      "Epoch 00019: saving model to License_character_recognition.h5\n",
      "12/12 [==============================] - 2s 147ms/step - loss: 0.1840 - accuracy: 0.9475 - val_loss: 1.7191 - val_accuracy: 0.7870\n",
      "Epoch 20/30\n",
      "12/12 [==============================] - ETA: 0s - loss: 0.1502 - accuracy: 0.9619\n",
      "Epoch 00020: saving model to License_character_recognition.h5\n",
      "12/12 [==============================] - 2s 153ms/step - loss: 0.1502 - accuracy: 0.9619 - val_loss: 1.7137 - val_accuracy: 0.7978\n",
      "Epoch 21/30\n",
      "12/12 [==============================] - ETA: 0s - loss: 0.1353 - accuracy: 0.9685\n",
      "Epoch 00021: saving model to License_character_recognition.h5\n",
      "12/12 [==============================] - 2s 159ms/step - loss: 0.1353 - accuracy: 0.9685 - val_loss: 1.6837 - val_accuracy: 0.8005\n",
      "Epoch 22/30\n",
      "12/12 [==============================] - ETA: 0s - loss: 0.1376 - accuracy: 0.9674\n",
      "Epoch 00022: saving model to License_character_recognition.h5\n",
      "12/12 [==============================] - 2s 160ms/step - loss: 0.1376 - accuracy: 0.9674 - val_loss: 1.6503 - val_accuracy: 0.8196\n",
      "Epoch 23/30\n",
      "12/12 [==============================] - ETA: 0s - loss: 0.1266 - accuracy: 0.9606\n",
      "Epoch 00023: saving model to License_character_recognition.h5\n",
      "12/12 [==============================] - 2s 157ms/step - loss: 0.1266 - accuracy: 0.9606 - val_loss: 1.6550 - val_accuracy: 0.8413\n",
      "Epoch 24/30\n",
      "12/12 [==============================] - ETA: 0s - loss: 0.1081 - accuracy: 0.9751\n",
      "Epoch 00024: saving model to License_character_recognition.h5\n",
      "12/12 [==============================] - 2s 157ms/step - loss: 0.1081 - accuracy: 0.9751 - val_loss: 1.6391 - val_accuracy: 0.8304\n",
      "Epoch 25/30\n",
      "12/12 [==============================] - ETA: 0s - loss: 0.1402 - accuracy: 0.9606\n",
      "Epoch 00025: saving model to License_character_recognition.h5\n",
      "12/12 [==============================] - 2s 152ms/step - loss: 0.1402 - accuracy: 0.9606 - val_loss: 1.6007 - val_accuracy: 0.8304\n",
      "Epoch 26/30\n",
      "12/12 [==============================] - ETA: 0s - loss: 0.1265 - accuracy: 0.9659\n",
      "Epoch 00026: saving model to License_character_recognition.h5\n",
      "12/12 [==============================] - 2s 151ms/step - loss: 0.1265 - accuracy: 0.9659 - val_loss: 1.5976 - val_accuracy: 0.8413\n",
      "Epoch 27/30\n",
      "12/12 [==============================] - ETA: 0s - loss: 0.1321 - accuracy: 0.9619\n",
      "Epoch 00027: saving model to License_character_recognition.h5\n",
      "12/12 [==============================] - 2s 151ms/step - loss: 0.1321 - accuracy: 0.9619 - val_loss: 1.5769 - val_accuracy: 0.8848\n",
      "Epoch 28/30\n",
      "12/12 [==============================] - ETA: 0s - loss: 0.1094 - accuracy: 0.9688\n",
      "Epoch 00028: saving model to License_character_recognition.h5\n",
      "12/12 [==============================] - 2s 151ms/step - loss: 0.1094 - accuracy: 0.9688 - val_loss: 1.5373 - val_accuracy: 0.8848\n",
      "Epoch 29/30\n",
      "12/12 [==============================] - ETA: 0s - loss: 0.1034 - accuracy: 0.9724\n",
      "Epoch 00029: saving model to License_character_recognition.h5\n",
      "12/12 [==============================] - 2s 154ms/step - loss: 0.1034 - accuracy: 0.9724 - val_loss: 1.4762 - val_accuracy: 0.8839\n",
      "Epoch 30/30\n",
      "12/12 [==============================] - ETA: 0s - loss: 0.1181 - accuracy: 0.9711\n",
      "Epoch 00030: saving model to License_character_recognition.h5\n",
      "12/12 [==============================] - 2s 151ms/step - loss: 0.1181 - accuracy: 0.9711 - val_loss: 1.4245 - val_accuracy: 0.9039\n"
     ]
    }
   ],
   "source": [
    "'''Definir peso'''\n",
    "BATCH_SIZE = 64\n",
    "'''Definición de modelo'''\n",
    "my_checkpointer = [\n",
    "                EarlyStopping(monitor='val_loss', patience=5, verbose=1),\n",
    "                ModelCheckpoint(filepath=\"Vehicle_Color_Features_Labels.h5\", verbose=1, save_weights_only=True)\n",
    "                ]\n",
    "#Impresión de resultados\n",
    "result = model.fit_generator(image_gen.flow(trainX, trainY, batch_size=64), \n",
    "                   steps_per_epoch=len(trainX) // BATCH_SIZE, \n",
    "                   validation_data=(testX, testY), \n",
    "                   validation_steps=len(testX) // BATCH_SIZE, \n",
    "                   epochs=EPOCHS, callbacks=my_checkpointer)"
   ]
  },
  {
   "cell_type": "code",
   "execution_count": 11,
   "id": "4ebab2ba",
   "metadata": {
    "colab": {
     "base_uri": "https://localhost:8080/",
     "height": 573
    },
    "id": "OAwFLysCk0zo",
    "outputId": "dd362f32-f4ae-49f4-cbcb-e7550d85219c"
   },
   "outputs": [
    {
     "data": {
      "image/png": "[encoded data removed]",
      "text/plain": [
       "<Figure size 432x288 with 1 Axes>"
      ]
     },
     "metadata": {
      "needs_background": "light"
     },
     "output_type": "display_data"
    },
    {
     "data": {
      "image/png": "[encoded data removed]",
      "text/plain": [
       "<Figure size 432x288 with 1 Axes>"
      ]
     },
     "metadata": {
      "needs_background": "light"
     },
     "output_type": "display_data"
    }
   ],
   "source": [
    "'''Determinar una aproximación en los 200 epochs'''\n",
    "model = ann3.fit(x_train, y_train, batch_size=16, epochs=200)\n",
    "plt.plot(model.epoch, model.history[\"loss\"], 'g', label='Training loss')\n",
    "plt.title('Training loss')\n",
    "plt.xlabel('Epochs')\n",
    "plt.ylabel('Loss')\n",
    "plt.legend()\n",
    "'''Mostrar training loss'''\n",
    "plt.show()\n",
    "plt.plot(model4.epoch, model4.history[\"accuracy\"], 'g', label='Training accuracy')\n",
    "plt.title('Training accuracy')\n",
    "plt.xlabel('Epochs')\n",
    "plt.ylabel('Accuracy')\n",
    "plt.legend()\n",
    "'''Mostrar training accuracy'''\n",
    "plt.show()"
   ]
  },
  {
   "cell_type": "code",
   "execution_count": 12,
   "id": "ad23b2c4",
   "metadata": {
    "colab": {
     "base_uri": "https://localhost:8080/"
    },
    "id": "F7O17Ecj1sF7",
    "outputId": "0c55ffa1-5cee-4235-96aa-546dc2b11442"
   },
   "outputs": [
    {
     "name": "stdout",
     "output_type": "stream",
     "text": [
      "Accuracy: 90.39\n",
      "F1 score: 82.44\n",
      "Recall: 88.73\n"
     ]
    }
   ],
   "source": [
    "'''Evaluar el modelo'''\n",
    "model_probs = model.predict(test_ds, verbose=0)\n",
    "'''Para evaluar el modelo, usamos una función de Keras llamada *evaluar* e imprimimos los resultados'''\n",
    "model_classes = np.argmax(model_probs,axis=1)\n",
    "'''reduce to 1d array'''\n",
    "model_probs = model_probs[:, 0]\n",
    "'''accuracy: (tp + tn) / (p + n)'''\n",
    "accuracy = accuracy_score(test_labels, model_classes)*100\n",
    "'''f1: 2 tp / (2 tp + fp + fn)'''\n",
    "f1 = f1_score(test_labels, model_classes, average='weighted')*100\n",
    "'''recall: tp / (tp + fn)'''\n",
    "recall = recall_score(test_labels, model_classes, average='weighted')*100\n",
    "\n",
    "'''Mostrar los resultados'''\n",
    "print('Accuracy: %.2f' % accuracy)\n",
    "print('F1 score: %.2f' % f1)\n",
    "print('Recall: %.2f' % recall)"
   ]
  },
  {
   "cell_type": "markdown",
   "id": "3230361d",
   "metadata": {},
   "source": [
    "Los resultados"
   ]
  },
  {
   "cell_type": "markdown",
   "id": "543d71e5",
   "metadata": {},
   "source": [
    "# Squeeze Net\n"
   ]
  },
  {
   "cell_type": "code",
   "execution_count": 13,
   "id": "1aef6e83",
   "metadata": {},
   "outputs": [],
   "source": [
    "'''Definición de variables'''\n",
    "sq1x1 = \"squeeze1x1\"\n",
    "exp1x1 = \"expand1x1\"\n",
    "exp3x3 = \"expand3x3\"\n",
    "relu = \"relu_\"\n",
    "\n",
    "'''Descarga de bases para el modelo'''\n",
    "WEIGHTS_PATH = \"https://github.com/rcmalli/keras-squeezenet/releases/download/v1.0/squeezenet_weights_tf_dim_ordering_tf_kernels.h5\"\n",
    "WEIGHTS_PATH_NO_TOP = \"https://github.com/rcmalli/keras-squeezenet/releases/download/v1.0/squeezenet_weights_tf_dim_ordering_tf_kernels_notop.h5\"\n",
    "\n",
    "'''Función modular para Fire Node'''\n",
    "def fire_module(x, fire_id, squeeze=16, expand=64):\n",
    "    s_id = 'fire' + str(fire_id) + '/'\n",
    "\n",
    "    if K.image_data_format() == 'channels_first':\n",
    "        channel_axis = 1\n",
    "    else:\n",
    "        channel_axis = 3\n",
    "    \n",
    "    x = Convolution2D(squeeze, (1, 1), padding='valid', name=s_id + sq1x1)(x)\n",
    "    x = Activation('relu', name=s_id + relu + sq1x1)(x)\n",
    "\n",
    "    left = Convolution2D(expand, (1, 1), padding='valid', name=s_id + exp1x1)(x)\n",
    "    left = Activation('relu', name=s_id + relu + exp1x1)(left)\n",
    "\n",
    "    right = Convolution2D(expand, (3, 3), padding='same', name=s_id + exp3x3)(x)\n",
    "    right = Activation('relu', name=s_id + relu + exp3x3)(right)\n",
    "\n",
    "    x = concatenate([left, right], axis=channel_axis, name=s_id + 'concat')\n",
    "    return x\n",
    "\n",
    "'''SqueezeNet original de papel.'''\n",
    "def SqueezeNet(include_top=True, weights='imagenet',\n",
    "               input_tensor=None, input_shape=None,\n",
    "               pooling=None,\n",
    "               classes=1000):\n",
    "    \n",
    "    #Crea una instancia de la arquitectura SqueezeNet.\n",
    "    if weights not in {'imagenet', None}:\n",
    "        raise ValueError('The `weights` argument should be either '\n",
    "                         '`None` (random initialization) or `imagenet` '\n",
    "                         '(pre-training on ImageNet).')\n",
    "\n",
    "    if weights == 'imagenet' and classes != 1000:\n",
    "        raise ValueError('If using `weights` as imagenet with `include_top`'\n",
    "                         ' as true, `classes` should be 1000')\n",
    "\n",
    "\n",
    "    input_shape = _obtain_input_shape(input_shape,\n",
    "                                      default_size=227,\n",
    "                                      min_size=48,\n",
    "                                      data_format=K.image_data_format(),\n",
    "                                      require_flatten=include_top)\n",
    "\n",
    "    if input_tensor is None:\n",
    "        img_input = Input(shape=input_shape)\n",
    "    else:\n",
    "        if not K.is_keras_tensor(input_tensor):\n",
    "            img_input = Input(tensor=input_tensor, shape=input_shape)\n",
    "        else:\n",
    "            img_input = input_tensor\n",
    "\n",
    "\n",
    "    x = Convolution2D(64, (3, 3), strides=(2, 2), padding='valid', name='conv1')(img_input)\n",
    "    x = Activation('relu', name='relu_conv1')(x)\n",
    "    x = MaxPooling2D(pool_size=(3, 3), strides=(2, 2), name='pool1')(x)\n",
    "\n",
    "    x = fire_module(x, fire_id=2, squeeze=16, expand=64)\n",
    "    x = fire_module(x, fire_id=3, squeeze=16, expand=64)\n",
    "    x = MaxPooling2D(pool_size=(3, 3), strides=(2, 2), name='pool3')(x)\n",
    "\n",
    "    x = fire_module(x, fire_id=4, squeeze=32, expand=128)\n",
    "    x = fire_module(x, fire_id=5, squeeze=32, expand=128)\n",
    "    x = MaxPooling2D(pool_size=(3, 3), strides=(2, 2), name='pool5')(x)\n",
    "\n",
    "    x = fire_module(x, fire_id=6, squeeze=48, expand=192)\n",
    "    x = fire_module(x, fire_id=7, squeeze=48, expand=192)\n",
    "    x = fire_module(x, fire_id=8, squeeze=64, expand=256)\n",
    "    x = fire_module(x, fire_id=9, squeeze=64, expand=256)\n",
    "    \n",
    "    # Corte de capas\n",
    "    if include_top:\n",
    "        # No es obvio donde cortar la red...\n",
    "        # Podría hacer la octava o la novena capa... algunos trabajos recomiendan cortar capas anteriores.\n",
    "    \n",
    "        x = Dropout(0.5, name='drop9')(x)\n",
    "\n",
    "        x = Convolution2D(classes, (1, 1), padding='valid', name='conv10')(x)\n",
    "        x = Activation('relu', name='relu_conv10')(x)\n",
    "        x = GlobalAveragePooling2D()(x)\n",
    "        x = Activation('softmax', name='loss')(x)\n",
    "    else:\n",
    "        if pooling == 'avg':\n",
    "            x = GlobalAveragePooling2D()(x)\n",
    "        elif pooling=='max':\n",
    "            x = GlobalMaxPooling2D()(x)\n",
    "        elif pooling==None:\n",
    "            pass\n",
    "        else:\n",
    "            raise ValueError(\"Unknown argument for 'pooling'=\" + pooling)\n",
    "\n",
    "    # Asegúrese de que el modelo tenga en cuenta\n",
    "    # cualquier antecesor potencial de `input_tensor`\n",
    "    \n",
    "    if input_tensor is not None:\n",
    "        inputs = get_source_inputs(input_tensor)\n",
    "    else:\n",
    "        inputs = img_input\n",
    "\n",
    "    model = Model(inputs, x, name='squeezenet')\n",
    "\n",
    "    # load weights\n",
    "    if weights == 'imagenet':\n",
    "        if include_top:\n",
    "            weights_path = get_file('squeezenet_weights_tf_dim_ordering_tf_kernels.h5',\n",
    "                                    WEIGHTS_PATH,\n",
    "                                    cache_subdir='models')\n",
    "        else:\n",
    "            weights_path = get_file('squeezenet_weights_tf_dim_ordering_tf_kernels_notop.h5',\n",
    "                                    WEIGHTS_PATH_NO_TOP,\n",
    "                                    cache_subdir='models')\n",
    "            \n",
    "        model.load_weights(weights_path)\n",
    "        if K.backend() == 'theano':\n",
    "            layer_utils.convert_all_kernels_in_model(model)\n",
    "\n",
    "        if K.image_data_format() == 'channels_first':\n",
    "\n",
    "            if K.backend() == 'tensorflow':\n",
    "                warnings.warn('You are using the TensorFlow backend, yet you '\n",
    "                              'are using the Theano '\n",
    "                              'image data format convention '\n",
    "                              '(`image_data_format=\"channels_first\"`). '\n",
    "                              'For best performance, set '\n",
    "                              '`image_data_format=\"channels_last\"` in '\n",
    "                              'your Keras config '\n",
    "                              'at ~/.keras/keras.json.')\n",
    "    return model"
   ]
  },
  {
   "cell_type": "code",
   "execution_count": 15,
   "id": "43711f83",
   "metadata": {},
   "outputs": [
    {
     "name": "stdout",
     "output_type": "stream",
     "text": [
      "input_1\n",
      "conv1\n",
      "relu_conv1\n",
      "pool1\n",
      "fire2/squeeze1x1\n",
      "fire2/relu_squeeze1x1\n",
      "fire2/expand1x1\n",
      "fire2/expand3x3\n",
      "fire2/relu_expand1x1\n",
      "fire2/relu_expand3x3\n",
      "fire2/concat\n",
      "fire3/squeeze1x1\n",
      "fire3/relu_squeeze1x1\n",
      "fire3/expand1x1\n",
      "fire3/expand3x3\n",
      "fire3/relu_expand1x1\n",
      "fire3/relu_expand3x3\n",
      "fire3/concat\n",
      "pool3\n",
      "fire4/squeeze1x1\n",
      "fire4/relu_squeeze1x1\n",
      "fire4/expand1x1\n",
      "fire4/expand3x3\n",
      "fire4/relu_expand1x1\n",
      "fire4/relu_expand3x3\n",
      "fire4/concat\n",
      "fire5/squeeze1x1\n",
      "fire5/relu_squeeze1x1\n",
      "fire5/expand1x1\n",
      "fire5/expand3x3\n",
      "fire5/relu_expand1x1\n",
      "fire5/relu_expand3x3\n",
      "fire5/concat\n",
      "pool5\n",
      "fire6/squeeze1x1\n",
      "fire6/relu_squeeze1x1\n",
      "fire6/expand1x1\n",
      "fire6/expand3x3\n",
      "fire6/relu_expand1x1\n",
      "fire6/relu_expand3x3\n",
      "fire6/concat\n",
      "fire7/squeeze1x1\n",
      "fire7/relu_squeeze1x1\n",
      "fire7/expand1x1\n",
      "fire7/expand3x3\n",
      "fire7/relu_expand1x1\n",
      "fire7/relu_expand3x3\n",
      "fire7/concat\n",
      "fire8/squeeze1x1\n",
      "fire8/relu_squeeze1x1\n",
      "fire8/expand1x1\n",
      "fire8/expand3x3\n",
      "fire8/relu_expand1x1\n",
      "fire8/relu_expand3x3\n",
      "fire8/concat\n",
      "fire9/squeeze1x1\n",
      "fire9/relu_squeeze1x1\n",
      "fire9/expand1x1\n",
      "fire9/expand3x3\n",
      "fire9/relu_expand1x1\n",
      "fire9/relu_expand3x3\n",
      "fire9/concat\n"
     ]
    }
   ],
   "source": [
    "'''Unión del modelo'''\n",
    "pre_trained_model = SqueezeNet(input_shape=x_train[0].shape, include_top=False, weights=\"imagenet\")\n",
    "\n",
    "'''Muestra las layer utilizadas en el modelo'''\n",
    "for layer in pre_trained_model.layers:\n",
    "    print(layer.name)\n",
    "    layer.trainable = False"
   ]
  },
  {
   "cell_type": "code",
   "execution_count": 16,
   "id": "dbb13ff5",
   "metadata": {},
   "outputs": [],
   "source": [
    "'''Definición del modelo capa9'''\n",
    "last_layer = pre_trained_model.get_layer('fire9/concat')\n",
    "last_output = last_layer.output\n",
    "x = tf.keras.layers.GlobalMaxPooling2D()(last_output)\n",
    "x = tf.keras.layers.Dense(512, activation='relu')(x)\n",
    "x = tf.keras.layers.Dropout(0.5)(x)\n",
    "x = tf.keras.layers.Dense(3, activation='sigmoid')(x)\n",
    "model = tf.keras.Model(pre_trained_model.input, x)"
   ]
  },
  {
   "cell_type": "markdown",
   "id": "6b94f5bb",
   "metadata": {},
   "source": [
    "## Train model"
   ]
  },
  {
   "cell_type": "code",
   "execution_count": 18,
   "id": "c3e20f07",
   "metadata": {},
   "outputs": [
    {
     "name": "stdout",
     "output_type": "stream",
     "text": [
      "Model: \"model\"\n",
      "__________________________________________________________________________________________________\n",
      " Layer (type)                   Output Shape         Param #     Connected to                     \n",
      "==================================================================================================\n",
      " input_1 (InputLayer)           [(None, 227, 227, 3  0           []                               \n",
      "                                )]                                                                \n",
      "                                                                                                  \n",
      " conv1 (Conv2D)                 (None, 113, 113, 64  1792        ['input_1[0][0]']                \n",
      "                                )                                                                 \n",
      "                                                                                                  \n",
      " relu_conv1 (Activation)        (None, 113, 113, 64  0           ['conv1[0][0]']                  \n",
      "                                )                                                                 \n",
      "                                                                                                  \n",
      " pool1 (MaxPooling2D)           (None, 56, 56, 64)   0           ['relu_conv1[0][0]']             \n",
      "                                                                                                  \n",
      " fire2/squeeze1x1 (Conv2D)      (None, 56, 56, 16)   1040        ['pool1[0][0]']                  \n",
      "                                                                                                  \n",
      " fire2/relu_squeeze1x1 (Activat  (None, 56, 56, 16)  0           ['fire2/squeeze1x1[0][0]']       \n",
      " ion)                                                                                             \n",
      "                                                                                                  \n",
      " fire2/expand1x1 (Conv2D)       (None, 56, 56, 64)   1088        ['fire2/relu_squeeze1x1[0][0]']  \n",
      "                                                                                                  \n",
      " fire2/expand3x3 (Conv2D)       (None, 56, 56, 64)   9280        ['fire2/relu_squeeze1x1[0][0]']  \n",
      "                                                                                                  \n",
      " fire2/relu_expand1x1 (Activati  (None, 56, 56, 64)  0           ['fire2/expand1x1[0][0]']        \n",
      " on)                                                                                              \n",
      "                                                                                                  \n",
      " fire2/relu_expand3x3 (Activati  (None, 56, 56, 64)  0           ['fire2/expand3x3[0][0]']        \n",
      " on)                                                                                              \n",
      "                                                                                                  \n",
      " fire2/concat (Concatenate)     (None, 56, 56, 128)  0           ['fire2/relu_expand1x1[0][0]',   \n",
      "                                                                  'fire2/relu_expand3x3[0][0]']   \n",
      "                                                                                                  \n",
      " fire3/squeeze1x1 (Conv2D)      (None, 56, 56, 16)   2064        ['fire2/concat[0][0]']           \n",
      "                                                                                                  \n",
      " fire3/relu_squeeze1x1 (Activat  (None, 56, 56, 16)  0           ['fire3/squeeze1x1[0][0]']       \n",
      " ion)                                                                                             \n",
      "                                                                                                  \n",
      " fire3/expand1x1 (Conv2D)       (None, 56, 56, 64)   1088        ['fire3/relu_squeeze1x1[0][0]']  \n",
      "                                                                                                  \n",
      " fire3/expand3x3 (Conv2D)       (None, 56, 56, 64)   9280        ['fire3/relu_squeeze1x1[0][0]']  \n",
      "                                                                                                  \n",
      " fire3/relu_expand1x1 (Activati  (None, 56, 56, 64)  0           ['fire3/expand1x1[0][0]']        \n",
      " on)                                                                                              \n",
      "                                                                                                  \n",
      " fire3/relu_expand3x3 (Activati  (None, 56, 56, 64)  0           ['fire3/expand3x3[0][0]']        \n",
      " on)                                                                                              \n",
      "                                                                                                  \n",
      " fire3/concat (Concatenate)     (None, 56, 56, 128)  0           ['fire3/relu_expand1x1[0][0]',   \n",
      "                                                                  'fire3/relu_expand3x3[0][0]']   \n",
      "                                                                                                  \n",
      " pool3 (MaxPooling2D)           (None, 27, 27, 128)  0           ['fire3/concat[0][0]']           \n",
      "                                                                                                  \n",
      " fire4/squeeze1x1 (Conv2D)      (None, 27, 27, 32)   4128        ['pool3[0][0]']                  \n",
      "                                                                                                  \n",
      " fire4/relu_squeeze1x1 (Activat  (None, 27, 27, 32)  0           ['fire4/squeeze1x1[0][0]']       \n",
      " ion)                                                                                             \n",
      "                                                                                                  \n",
      " fire4/expand1x1 (Conv2D)       (None, 27, 27, 128)  4224        ['fire4/relu_squeeze1x1[0][0]']  \n",
      "                                                                                                  \n",
      " fire4/expand3x3 (Conv2D)       (None, 27, 27, 128)  36992       ['fire4/relu_squeeze1x1[0][0]']  \n",
      "                                                                                                  \n",
      " fire4/relu_expand1x1 (Activati  (None, 27, 27, 128)  0          ['fire4/expand1x1[0][0]']        \n",
      " on)                                                                                              \n",
      "                                                                                                  \n",
      " fire4/relu_expand3x3 (Activati  (None, 27, 27, 128)  0          ['fire4/expand3x3[0][0]']        \n",
      " on)                                                                                              \n",
      "                                                                                                  \n",
      " fire4/concat (Concatenate)     (None, 27, 27, 256)  0           ['fire4/relu_expand1x1[0][0]',   \n",
      "                                                                  'fire4/relu_expand3x3[0][0]']   \n",
      "                                                                                                  \n",
      " fire5/squeeze1x1 (Conv2D)      (None, 27, 27, 32)   8224        ['fire4/concat[0][0]']           \n",
      "                                                                                                  \n",
      " fire5/relu_squeeze1x1 (Activat  (None, 27, 27, 32)  0           ['fire5/squeeze1x1[0][0]']       \n",
      " ion)                                                                                             \n",
      "                                                                                                  \n",
      " fire5/expand1x1 (Conv2D)       (None, 27, 27, 128)  4224        ['fire5/relu_squeeze1x1[0][0]']  \n",
      "                                                                                                  \n",
      " fire5/expand3x3 (Conv2D)       (None, 27, 27, 128)  36992       ['fire5/relu_squeeze1x1[0][0]']  \n",
      "                                                                                                  \n",
      " fire5/relu_expand1x1 (Activati  (None, 27, 27, 128)  0          ['fire5/expand1x1[0][0]']        \n",
      " on)                                                                                              \n",
      "                                                                                                  \n",
      " fire5/relu_expand3x3 (Activati  (None, 27, 27, 128)  0          ['fire5/expand3x3[0][0]']        \n"
     ]
    },
    {
     "name": "stdout",
     "output_type": "stream",
     "text": [
      " on)                                                                                              \n",
      "                                                                                                  \n",
      " fire5/concat (Concatenate)     (None, 27, 27, 256)  0           ['fire5/relu_expand1x1[0][0]',   \n",
      "                                                                  'fire5/relu_expand3x3[0][0]']   \n",
      "                                                                                                  \n",
      " pool5 (MaxPooling2D)           (None, 13, 13, 256)  0           ['fire5/concat[0][0]']           \n",
      "                                                                                                  \n",
      " fire6/squeeze1x1 (Conv2D)      (None, 13, 13, 48)   12336       ['pool5[0][0]']                  \n",
      "                                                                                                  \n",
      " fire6/relu_squeeze1x1 (Activat  (None, 13, 13, 48)  0           ['fire6/squeeze1x1[0][0]']       \n",
      " ion)                                                                                             \n",
      "                                                                                                  \n",
      " fire6/expand1x1 (Conv2D)       (None, 13, 13, 192)  9408        ['fire6/relu_squeeze1x1[0][0]']  \n",
      "                                                                                                  \n",
      " fire6/expand3x3 (Conv2D)       (None, 13, 13, 192)  83136       ['fire6/relu_squeeze1x1[0][0]']  \n",
      "                                                                                                  \n",
      " fire6/relu_expand1x1 (Activati  (None, 13, 13, 192)  0          ['fire6/expand1x1[0][0]']        \n",
      " on)                                                                                              \n",
      "                                                                                                  \n",
      " fire6/relu_expand3x3 (Activati  (None, 13, 13, 192)  0          ['fire6/expand3x3[0][0]']        \n",
      " on)                                                                                              \n",
      "                                                                                                  \n",
      " fire6/concat (Concatenate)     (None, 13, 13, 384)  0           ['fire6/relu_expand1x1[0][0]',   \n",
      "                                                                  'fire6/relu_expand3x3[0][0]']   \n",
      "                                                                                                  \n",
      " fire7/squeeze1x1 (Conv2D)      (None, 13, 13, 48)   18480       ['fire6/concat[0][0]']           \n",
      "                                                                                                  \n",
      " fire7/relu_squeeze1x1 (Activat  (None, 13, 13, 48)  0           ['fire7/squeeze1x1[0][0]']       \n",
      " ion)                                                                                             \n",
      "                                                                                                  \n",
      " fire7/expand1x1 (Conv2D)       (None, 13, 13, 192)  9408        ['fire7/relu_squeeze1x1[0][0]']  \n",
      "                                                                                                  \n",
      " fire7/expand3x3 (Conv2D)       (None, 13, 13, 192)  83136       ['fire7/relu_squeeze1x1[0][0]']  \n",
      "                                                                                                  \n",
      " fire7/relu_expand1x1 (Activati  (None, 13, 13, 192)  0          ['fire7/expand1x1[0][0]']        \n",
      " on)                                                                                              \n",
      "                                                                                                  \n",
      " fire7/relu_expand3x3 (Activati  (None, 13, 13, 192)  0          ['fire7/expand3x3[0][0]']        \n",
      " on)                                                                                              \n",
      "                                                                                                  \n",
      " fire7/concat (Concatenate)     (None, 13, 13, 384)  0           ['fire7/relu_expand1x1[0][0]',   \n",
      "                                                                  'fire7/relu_expand3x3[0][0]']   \n",
      "                                                                                                  \n",
      " fire8/squeeze1x1 (Conv2D)      (None, 13, 13, 64)   24640       ['fire7/concat[0][0]']           \n",
      "                                                                                                  \n",
      " fire8/relu_squeeze1x1 (Activat  (None, 13, 13, 64)  0           ['fire8/squeeze1x1[0][0]']       \n",
      " ion)                                                                                             \n",
      "                                                                                                  \n",
      " fire8/expand1x1 (Conv2D)       (None, 13, 13, 256)  16640       ['fire8/relu_squeeze1x1[0][0]']  \n",
      "                                                                                                  \n",
      " fire8/expand3x3 (Conv2D)       (None, 13, 13, 256)  147712      ['fire8/relu_squeeze1x1[0][0]']  \n",
      "                                                                                                  \n",
      " fire8/relu_expand1x1 (Activati  (None, 13, 13, 256)  0          ['fire8/expand1x1[0][0]']        \n",
      " on)                                                                                              \n",
      "                                                                                                  \n",
      " fire8/relu_expand3x3 (Activati  (None, 13, 13, 256)  0          ['fire8/expand3x3[0][0]']        \n",
      " on)                                                                                              \n",
      "                                                                                                  \n",
      " fire8/concat (Concatenate)     (None, 13, 13, 512)  0           ['fire8/relu_expand1x1[0][0]',   \n",
      "                                                                  'fire8/relu_expand3x3[0][0]']   \n",
      "                                                                                                  \n",
      " fire9/squeeze1x1 (Conv2D)      (None, 13, 13, 64)   32832       ['fire8/concat[0][0]']           \n",
      "                                                                                                  \n",
      " fire9/relu_squeeze1x1 (Activat  (None, 13, 13, 64)  0           ['fire9/squeeze1x1[0][0]']       \n",
      " ion)                                                                                             \n",
      "                                                                                                  \n",
      " fire9/expand1x1 (Conv2D)       (None, 13, 13, 256)  16640       ['fire9/relu_squeeze1x1[0][0]']  \n",
      "                                                                                                  \n",
      " fire9/expand3x3 (Conv2D)       (None, 13, 13, 256)  147712      ['fire9/relu_squeeze1x1[0][0]']  \n",
      "                                                                                                  \n",
      " fire9/relu_expand1x1 (Activati  (None, 13, 13, 256)  0          ['fire9/expand1x1[0][0]']        \n",
      " on)                                                                                              \n",
      "                                                                                                  \n",
      " fire9/relu_expand3x3 (Activati  (None, 13, 13, 256)  0          ['fire9/expand3x3[0][0]']        \n",
      " on)                                                                                              \n",
      "                                                                                                  \n",
      " fire9/concat (Concatenate)     (None, 13, 13, 512)  0           ['fire9/relu_expand1x1[0][0]',   \n",
      "                                                                  'fire9/relu_expand3x3[0][0]']   \n",
      "                                                                                                  \n",
      " global_max_pooling2d (GlobalMa  (None, 512)         0           ['fire9/concat[0][0]']           \n",
      " xPooling2D)                                                                                      \n",
      "                                                                                                  \n",
      " dense (Dense)                  (None, 512)          262656      ['global_max_pooling2d[0][0]']   \n"
     ]
    },
    {
     "name": "stdout",
     "output_type": "stream",
     "text": [
      "                                                                                                  \n",
      " dropout (Dropout)              (None, 512)          0           ['dense[0][0]']                  \n",
      "                                                                                                  \n",
      " dense_1 (Dense)                (None, 3)            1539        ['dropout[0][0]']                \n",
      "                                                                                                  \n",
      "==================================================================================================\n",
      "Total params: 986,691\n",
      "Trainable params: 264,195\n",
      "Non-trainable params: 722,496\n",
      "__________________________________________________________________________________________________\n"
     ]
    }
   ],
   "source": [
    "'''Entrenamiento del modelo'''\n",
    "model.compile(optimizer='adam', loss=tf.keras.losses.categorical_crossentropy, metrics=['acc'])\n",
    "model.summary()"
   ]
  },
  {
   "cell_type": "code",
   "execution_count": 19,
   "id": "a67ddd3a",
   "metadata": {},
   "outputs": [],
   "source": [
    "'''Caracterización de entrenamiento de valores a entrenar'''\n",
    "steps_per_epoch = (x_train.shape[0]//batch_size)\n",
    "validation_steps = (x_val.shape[0] // batch_size)\n",
    "\n",
    "'''Modelo de finalización'''\n",
    "es = EarlyStopping(monitor='val_loss', mode='min', verbose=1, patience=200)"
   ]
  },
  {
   "cell_type": "code",
   "execution_count": 22,
   "id": "11543200",
   "metadata": {
    "scrolled": true
   },
   "outputs": [
    {
     "name": "stdout",
     "output_type": "stream",
     "text": [
      "Epoch 1/50\n",
      "58/58 [==============================] - 12s 193ms/step - loss: 2.3307 - acc: 0.6973 - val_loss: 0.7877 - val_acc: 0.5624\n",
      "Epoch 2/50\n",
      "58/58 [==============================] - 11s 188ms/step - loss: 0.8849 - acc: 0.7014 - val_loss: 0.7798 - val_acc: 0.5938\n",
      "Epoch 3/50\n",
      "58/58 [==============================] - 10s 173ms/step - loss: 0.7156 - acc: 0.6997 - val_loss: 0.7825 - val_acc: 0.5938\n",
      "Epoch 4/50\n",
      "58/58 [==============================] - 10s 172ms/step - loss: 0.7948 - acc: 0.7181 - val_loss: 0.7852 - val_acc: 0.5938\n",
      "Epoch 5/50\n",
      "58/58 [==============================] - 11s 185ms/step - loss: 0.7956 - acc: 0.7127 - val_loss: 0.7136 - val_acc: 0.5062\n",
      "Epoch 6/50\n",
      "58/58 [==============================] - 10s 176ms/step - loss: 0.7969 - acc: 0.7024 - val_loss: 0.7782 - val_acc: 0.6938\n",
      "Epoch 7/50\n",
      "58/58 [==============================] - 10s 177ms/step - loss: 0.7996 - acc: 0.7008 - val_loss: 0.7127 - val_acc: 0.6062\n",
      "Epoch 8/50\n",
      "58/58 [==============================] - 12s 201ms/step - loss: 0.7981 - acc: 0.6862 - val_loss: 0.7958 - val_acc: 0.6062\n",
      "Epoch 9/50\n",
      "58/58 [==============================] - 10s 177ms/step - loss: 0.7947 - acc: 0.7057 - val_loss: 0.7868 - val_acc: 0.6938\n",
      "Epoch 10/50\n",
      "58/58 [==============================] - 10s 171ms/step - loss: 0.7951 - acc: 0.6970 - val_loss: 0.7057 - val_acc: 0.6062\n",
      "Epoch 11/50\n",
      "58/58 [==============================] - 10s 173ms/step - loss: 0.7964 - acc: 0.6986 - val_loss: 0.7838 - val_acc: 0.6938\n",
      "Epoch 12/50\n",
      "58/58 [==============================] - 10s 167ms/step - loss: 0.7977 - acc: 0.7165 - val_loss: 0.7020 - val_acc: 0.6062\n",
      "Epoch 13/50\n",
      "58/58 [==============================] - 10s 166ms/step - loss: 0.7960 - acc: 0.6959 - val_loss: 0.7825 - val_acc: 0.7938\n",
      "Epoch 14/50\n",
      "58/58 [==============================] - 10s 170ms/step - loss: 0.7956 - acc: 0.7073 - val_loss: 0.7008 - val_acc: 0.6062\n",
      "Epoch 15/50\n",
      "58/58 [==============================] - 10s 170ms/step - loss: 0.7953 - acc: 0.7214 - val_loss: 0.7000 - val_acc: 0.6062\n",
      "Epoch 16/50\n",
      "58/58 [==============================] - 10s 168ms/step - loss: 0.7954 - acc: 0.7236 - val_loss: 0.7829 - val_acc: 0.7938\n",
      "Epoch 17/50\n",
      "58/58 [==============================] - 10s 170ms/step - loss: 0.7009 - acc: 0.6997 - val_loss: 0.7054 - val_acc: 0.6062\n",
      "Epoch 18/50\n",
      "58/58 [==============================] - 11s 185ms/step - loss: 0.7972 - acc: 0.6889 - val_loss: 0.7086 - val_acc: 0.6062\n",
      "Epoch 19/50\n",
      "58/58 [==============================] - 10s 172ms/step - loss: 0.7976 - acc: 0.6943 - val_loss: 0.7000 - val_acc: 0.6062\n",
      "Epoch 20/50\n",
      "58/58 [==============================] - 10s 166ms/step - loss: 0.7967 - acc: 0.7041 - val_loss: 0.7803 - val_acc: 0.7938\n",
      "Epoch 21/50\n",
      "58/58 [==============================] - 10s 179ms/step - loss: 0.7992 - acc: 0.6829 - val_loss: 0.7880 - val_acc: 0.7938\n",
      "Epoch 22/50\n",
      "58/58 [==============================] - 10s 172ms/step - loss: 0.7957 - acc: 0.7095 - val_loss: 0.7858 - val_acc: 0.7938\n",
      "Epoch 23/50\n",
      "58/58 [==============================] - 10s 177ms/step - loss: 0.7969 - acc: 0.6932 - val_loss: 0.7977 - val_acc: 0.6062\n",
      "Epoch 24/50\n",
      "58/58 [==============================] - 11s 187ms/step - loss: 0.7988 - acc: 0.7035 - val_loss: 0.7896 - val_acc: 0.7938\n",
      "Epoch 25/50\n",
      "58/58 [==============================] - 11s 197ms/step - loss: 0.7965 - acc: 0.6976 - val_loss: 0.7884 - val_acc: 0.7938\n",
      "Epoch 26/50\n",
      "58/58 [==============================] - 11s 188ms/step - loss: 0.7954 - acc: 0.7225 - val_loss: 0.7077 - val_acc: 0.6062\n",
      "Epoch 27/50\n",
      "58/58 [==============================] - 12s 212ms/step - loss: 0.7979 - acc: 0.6878 - val_loss: 0.7871 - val_acc: 0.7938\n",
      "Epoch 28/50\n",
      "58/58 [==============================] - 10s 179ms/step - loss: 0.7958 - acc: 0.7203 - val_loss: 0.7870 - val_acc: 0.7938\n",
      "Epoch 29/50\n",
      "58/58 [==============================] - 10s 173ms/step - loss: 0.7990 - acc: 0.6905 - val_loss: 0.7860 - val_acc: 0.7138\n",
      "Epoch 30/50\n",
      "58/58 [==============================] - 11s 188ms/step - loss: 0.7998 - acc: 0.6949 - val_loss: 0.7926 - val_acc: 0.8125\n",
      "Epoch 31/50\n",
      "58/58 [==============================] - 10s 167ms/step - loss: 0.7951 - acc: 0.7122 - val_loss: 0.7946 - val_acc: 0.6062\n",
      "Epoch 32/50\n",
      "58/58 [==============================] - 10s 169ms/step - loss: 0.7979 - acc: 0.6943 - val_loss: 0.7827 - val_acc: 0.7938\n",
      "Epoch 33/50\n",
      "58/58 [==============================] - 10s 178ms/step - loss: 0.7002 - acc: 0.6819 - val_loss: 0.7052 - val_acc: 0.6062\n",
      "Epoch 34/50\n",
      "58/58 [==============================] - 10s 170ms/step - loss: 0.7971 - acc: 0.7014 - val_loss: 0.7006 - val_acc: 0.6062\n",
      "Epoch 35/50\n",
      "58/58 [==============================] - 10s 175ms/step - loss: 0.7969 - acc: 0.6813 - val_loss: 0.7927 - val_acc: 0.7250\n",
      "Epoch 36/50\n",
      "58/58 [==============================] - 12s 202ms/step - loss: 0.7965 - acc: 0.7079 - val_loss: 0.7883 - val_acc: 0.7338\n",
      "Epoch 37/50\n",
      "58/58 [==============================] - 10s 180ms/step - loss: 0.7960 - acc: 0.7171 - val_loss: 0.7024 - val_acc: 0.6062\n",
      "Epoch 38/50\n",
      "58/58 [==============================] - 11s 188ms/step - loss: 0.7011 - acc: 0.6878 - val_loss: 0.7800 - val_acc: 0.7938\n",
      "Epoch 39/50\n",
      "58/58 [==============================] - 11s 182ms/step - loss: 0.7980 - acc: 0.7100 - val_loss: 0.7818 - val_acc: 0.7438\n",
      "Epoch 40/50\n",
      "58/58 [==============================] - 10s 166ms/step - loss: 0.7992 - acc: 0.7122 - val_loss: 0.7172 - val_acc: 0.6062\n",
      "Epoch 41/50\n",
      "58/58 [==============================] - 10s 167ms/step - loss: 0.7970 - acc: 0.7143 - val_loss: 0.7880 - val_acc: 0.7538\n",
      "Epoch 42/50\n",
      "58/58 [==============================] - 10s 173ms/step - loss: 0.7001 - acc: 0.6965 - val_loss: 0.7890 - val_acc: 0.7638\n",
      "Epoch 43/50\n",
      "58/58 [==============================] - 10s 171ms/step - loss: 0.7968 - acc: 0.7149 - val_loss: 0.7970 - val_acc: 0.7662\n",
      "Epoch 44/50\n",
      "58/58 [==============================] - 10s 168ms/step - loss: 0.7980 - acc: 0.7160 - val_loss: 0.7929 - val_acc: 0.7762\n",
      "Epoch 45/50\n",
      "58/58 [==============================] - 10s 167ms/step - loss: 0.7973 - acc: 0.7122 - val_loss: 0.7105 - val_acc: 0.7844\n",
      "Epoch 46/50\n",
      "58/58 [==============================] - 10s 175ms/step - loss: 0.7985 - acc: 0.6992 - val_loss: 0.7003 - val_acc: 0.7962\n",
      "Epoch 47/50\n",
      "58/58 [==============================] - 10s 169ms/step - loss: 0.7993 - acc: 0.6792 - val_loss: 0.7972 - val_acc: 0.8044\n",
      "Epoch 48/50\n",
      "58/58 [==============================] - 10s 167ms/step - loss: 0.7964 - acc: 0.7187 - val_loss: 0.7869 - val_acc: 0.8209\n",
      "Epoch 49/50\n",
      "58/58 [==============================] - 10s 174ms/step - loss: 0.7975 - acc: 0.7116 - val_loss: 0.7875 - val_acc: 0.8338\n",
      "Epoch 50/50\n",
      "58/58 [==============================] - 10s 169ms/step - loss: 0.7963 - acc: 0.7046 - val_loss: 0.7790 - val_acc: 0.8468\n"
     ]
    }
   ],
   "source": [
    "'''Inicialización de train'''\n",
    "start_time = time.time()\n",
    "\n",
    "'''50 vueltas'''\n",
    "history = model.fit(x_train, y_train,\n",
    "    steps_per_epoch=steps_per_epoch,\n",
    "    epochs = 50,\n",
    "    validation_data=(x_val, y_val),\n",
    "    validation_steps=validation_steps,\n",
    "    batch_size = batch_size,\n",
    "    callbacks=[es],\n",
    "    verbose=1)\n",
    "\n",
    "logging.basicConfig(filename=\"CNN-basedTL_SqueezeNet_log.txt\", level=logging.INFO)\n",
    "logging.info(\"Training Execution Time:\" + time.strftime(\"%H:%M:%S\", time.gmtime(time.time() - start_time)))"
   ]
  },
  {
   "cell_type": "markdown",
   "id": "449054d6",
   "metadata": {},
   "source": [
    "# Evaluation model"
   ]
  },
  {
   "cell_type": "code",
   "execution_count": 25,
   "id": "75725467",
   "metadata": {},
   "outputs": [
    {
     "name": "stdout",
     "output_type": "stream",
     "text": [
      "Accuracy: 84.68\n",
      "F1 score: 71.31\n",
      "Recall: 79.07\n"
     ]
    }
   ],
   "source": [
    "'''Datos estadisticos Finales'''\n",
    "model_probs = model.predict(x_test,batch_size=batch_size,verbose=0)\n",
    "y_pred = model_probs\n",
    "# predict crisp classes for test set\n",
    "model_classes = np.argmax(model_probs,axis=1)\n",
    "# reduce to 1d array\n",
    "model_probs = model_probs[:, 0]\n",
    "\n",
    "y_test_reduced = np.argmax(y_test,axis=1)\n",
    " \n",
    "# accuracy: (tp + tn) / (p + n)\n",
    "accuracy = accuracy_score(y_test_reduced, model_classes)*100\n",
    "# recall: tp / (tp + fn)\n",
    "recall = recall_score(y_test_reduced, model_classes, average='weighted')*100\n",
    "# f1: 2 tp / (2 tp + fp + fn)\n",
    "f1 = f1_score(y_test_reduced, model_classes, average='weighted')*100\n",
    "\n",
    "print('Accuracy: %.2f' % accuracy)\n",
    "print('F1 score: %.2f' % f1)\n",
    "print('Recall: %.2f' % recall)"
   ]
  },
  {
   "cell_type": "code",
   "execution_count": 26,
   "id": "cb3d9f9b",
   "metadata": {},
   "outputs": [
    {
     "data": {
      "image/png": "[encoded data removed]",
      "text/plain": [
       "<Figure size 432x288 with 1 Axes>"
      ]
     },
     "metadata": {
      "needs_background": "light"
     },
     "output_type": "display_data"
    }
   ],
   "source": [
    "'''Datos de testeo'''\n",
    "accuracy = history.history['acc']\n",
    "validation_accuracy = history.history['val_acc']\n",
    "epochs = range(len(accuracy))\n",
    "plt.plot(epochs, accuracy, 'r', label='Training accuracy')\n",
    "plt.plot(epochs, validation_accuracy, 'b', label='Validation accuracy')\n",
    "plt.title('Training and validation accuracy')\n",
    "plt.legend(loc=0)\n",
    "plt.savefig(\"Training and validation accuracy - CNN-based TL.png\")\n",
    "plt.show() "
   ]
  },
  {
   "cell_type": "code",
   "execution_count": 30,
   "id": "883e9ed8",
   "metadata": {},
   "outputs": [
    {
     "data": {
      "image/png": "[encoded data removed]",
      "text/plain": [
       "<Figure size 576x432 with 1 Axes>"
      ]
     },
     "metadata": {
      "needs_background": "light"
     },
     "output_type": "display_data"
    }
   ],
   "source": [
    "'''Matriz de confusión'''\n",
    "make_confusion_matrix(cf_matrix_3x3, figsize=(8,6), cbar=False, title='My Three-class CF Matrix')"
   ]
  },
  {
   "cell_type": "markdown",
   "id": "fd3e7815",
   "metadata": {},
   "source": [
    "Los resultados"
   ]
  },
  {
   "cell_type": "markdown",
   "id": "b4bfc663",
   "metadata": {},
   "source": [
    "# One-shot Learning"
   ]
  },
  {
   "cell_type": "code",
   "execution_count": 31,
   "id": "b1eccd64",
   "metadata": {},
   "outputs": [
    {
     "name": "stderr",
     "output_type": "stream",
     "text": [
      "Using TensorFlow backend.\n"
     ]
    }
   ],
   "source": [
    "'''Librerias básicas para One-shot Learning'''\n",
    "import random\n",
    "import numpy as np\n",
    "import keras\n",
    "import wandb\n",
    "from wandb.keras import WandbCallback\n",
    "from keras.models import Sequential, Model\n",
    "from keras.layers import Flatten, Dense, Concatenate, Dot, Lambda, Input\n",
    "from keras.datasets import mnist\n",
    "from keras.optimizers import Adam\n",
    "import matplotlib.pyplot as plt"
   ]
  },
  {
   "cell_type": "code",
   "execution_count": 33,
   "id": "fc26195e",
   "metadata": {},
   "outputs": [],
   "source": [
    "'''Hacer parejas'''\n",
    "def make_pairs(X, y):\n",
    "    num_classes = max(y) + 1\n",
    "    digit_indices = [np.where(y == i)[0] for i in range(num_classes)]\n",
    "\n",
    "    pairs = []\n",
    "    labels = []\n",
    "\n",
    "    for idx1 in range(len(X)):\n",
    "        # agrega un ejemplo coincidente\n",
    "        x1 = X[idx1]\n",
    "        label1 = y[idx1]\n",
    "        idx2 = random.choice(digit_indices[label1])\n",
    "        x2 = X[idx2]\n",
    "        \n",
    "        pairs += [[x1, x2]]\n",
    "        labels += [1]\n",
    "    \n",
    "        # agregar un ejemplo que no coincida\n",
    "        label2 = random.randint(0, num_classes-1)\n",
    "        while label2 == label1:\n",
    "            label2 = random.randint(0, num_classes-1)\n",
    "\n",
    "        idx2 = random.choice(digit_indices[label2])\n",
    "        x2 = x[idx2]\n",
    "        \n",
    "        pairs += [[x1, x2]]\n",
    "        labels += [0]\n",
    "\n",
    "    return np.array(pairs), np.array(labels)\n",
    "\n",
    "'''Nuevo modelo de entranmiento'''\n",
    "pairs_train, labels_train = make_pairs(X_train, y_train)\n",
    "pairs_test, labels_test = make_pairs(X_test, y_test)"
   ]
  },
  {
   "cell_type": "code",
   "execution_count": 34,
   "id": "f8dbd068",
   "metadata": {},
   "outputs": [
    {
     "name": "stdout",
     "output_type": "stream",
     "text": [
      "1\n"
     ]
    },
    {
     "data": {
      "image/png": "[encoded data removed]",
      "text/plain": [
       "<Figure size 432x288 with 1 Axes>"
      ]
     },
     "metadata": {
      "needs_background": "light"
     },
     "output_type": "display_data"
    }
   ],
   "source": [
    "'''echa un vistazo a los datos'''\n",
    "plt.imshow(pairs_train[300,1])\n",
    "'''Moto'''\n",
    "print(labels_train[2])"
   ]
  },
  {
   "cell_type": "code",
   "execution_count": 35,
   "id": "d2b3ae39",
   "metadata": {},
   "outputs": [],
   "source": [
    "'''Pesos no compartidos seq1'''\n",
    "seq1 = Sequential()\n",
    "seq1.add(Flatten(input_shape=(28,28)))\n",
    "seq1.add(Dense(128, activation='relu'))\n",
    "'''Pesos no compartidos seq2'''\n",
    "seq2 = Sequential()\n",
    "seq2.add(Flatten(input_shape=(28,28)))\n",
    "seq2.add(Dense(128, activation='relu'))\n",
    "'''Preparar modelo'''\n",
    "merge_layer = Concatenate()([seq1.output, seq2.output])\n",
    "dense_layer = Dense(1, activation=\"sigmoid\")(merge_layer)\n",
    "model = Model(inputs=[seq1.input, seq2.input], outputs=dense_layer)"
   ]
  },
  {
   "cell_type": "code",
   "execution_count": 36,
   "id": "ac41d1f8",
   "metadata": {},
   "outputs": [
    {
     "name": "stdout",
     "output_type": "stream",
     "text": [
      "__________________________________________________________________________________________________\n",
      "Layer (type)                    Output Shape         Param #     Connected to                     \n",
      "==================================================================================================\n",
      "flatten_1_input (InputLayer)    (None, 28, 28)       0                                            \n",
      "__________________________________________________________________________________________________\n",
      "flatten_2_input (InputLayer)    (None, 28, 28)       0                                            \n",
      "__________________________________________________________________________________________________\n",
      "flatten_1 (Flatten)             (None, 784)          0           flatten_1_input[0][0]            \n",
      "__________________________________________________________________________________________________\n",
      "flatten_2 (Flatten)             (None, 784)          0           flatten_2_input[0][0]            \n",
      "__________________________________________________________________________________________________\n",
      "dense_1 (Dense)                 (None, 128)          100480      flatten_1[0][0]                  \n",
      "__________________________________________________________________________________________________\n",
      "dense_2 (Dense)                 (None, 128)          100480      flatten_2[0][0]                  \n",
      "__________________________________________________________________________________________________\n",
      "concatenate_1 (Concatenate)     (None, 256)          0           dense_1[0][0]                    \n",
      "                                                                 dense_2[0][0]                    \n",
      "__________________________________________________________________________________________________\n",
      "dense_3 (Dense)                 (None, 1)            257         concatenate_1[0][0]              \n",
      "==================================================================================================\n",
      "Total params: 201,217\n",
      "Trainable params: 201,217\n",
      "Non-trainable params: 0\n",
      "__________________________________________________________________________________________________\n"
     ]
    }
   ],
   "source": [
    "'''Determinar metricas'''\n",
    "model.compile(loss = \"binary_crossentropy\", optimizer=\"adam\", metrics=[\"accuracy\"])\n",
    "model.summary()"
   ]
  },
  {
   "cell_type": "code",
   "execution_count": 37,
   "id": "f38d8d14",
   "metadata": {},
   "outputs": [
    {
     "name": "stdout",
     "output_type": "stream",
     "text": [
      "W&B Run: https://app.wandb.ai/l2k2/siamese/runs/6v1gb888\n",
      "Call `%%wandb` in the cell containing your training loop to display live results.\n",
      "Epoch 1/10\n",
      "120000/120000 [==============================] - 38s 317us/step - loss: 0.6947 - acc: 0.5010\n",
      "Epoch 2/10\n",
      "120000/120000 [==============================] - 38s 314us/step - loss: 0.6931 - acc: 0.5054\n",
      "Epoch 3/10\n",
      "120000/120000 [==============================] - 38s 317us/step - loss: 0.6930 - acc: 0.5072\n",
      "Epoch 4/10\n",
      "120000/120000 [==============================] - 35s 290us/step - loss: 0.6928 - acc: 0.5087\n",
      "Epoch 5/10\n",
      "120000/120000 [==============================] - 35s 289us/step - loss: 0.6924 - acc: 0.5082\n",
      "Epoch 6/10\n",
      "120000/120000 [==============================] - 35s 289us/step - loss: 0.6920 - acc: 0.5130\n",
      "Epoch 7/10\n",
      "120000/120000 [==============================] - 37s 309us/step - loss: 0.6914 - acc: 0.5140\n",
      "Epoch 8/10\n",
      "120000/120000 [==============================] - 38s 314us/step - loss: 0.6906 - acc: 0.5168\n",
      "Epoch 9/10\n",
      "120000/120000 [==============================] - 40s 331us/step - loss: 0.6899 - acc: 0.5220\n",
      "Epoch 10/10\n",
      "120000/120000 [==============================] - 35s 295us/step - loss: 0.6890 - acc: 0.5242\n"
     ]
    },
    {
     "data": {
      "text/plain": [
       "<keras.callbacks.History at 0x7f5a88c39320>"
      ]
     },
     "execution_count": 37,
     "metadata": {},
     "output_type": "execute_result"
    }
   ],
   "source": [
    "'''Epoch'''\n",
    "wandb.init(project=\"siamese\")\n",
    "model.fit([pairs_train[:,0], pairs_train[:,1]], labels_train[:], batch_size=16, epochs= 10, callbacks=[WandbCallback()])"
   ]
  },
  {
   "cell_type": "code",
   "execution_count": 41,
   "id": "73e3f655",
   "metadata": {},
   "outputs": [],
   "source": [
    "'''Determinar nuevo modelo de disperción'''\n",
    "from keras import backend as K\n",
    "def euclidean_distance(vects):\n",
    "    X, y = vects\n",
    "    sum_square = K.sum(K.square(X - y), axis=1, keepdims=True)\n",
    "    return K.sqrt(K.maximum(sum_square, K.epsilon()))\n",
    "\n",
    "#Controlar pesos \n",
    "input = Input((28,28))\n",
    "X = Flatten()(input)\n",
    "X = Dense(128, activation='relu')(X)\n",
    "dense = Model(input, X)\n",
    "\n",
    "'''Sobrenetrenamiento'''\n",
    "input1 = Input((28,28))\n",
    "input2 = Input((28,28))\n",
    "dense1 = dense(input1)\n",
    "dense2 = dense(input2)\n",
    "\n",
    "'''Nuevos modelos'''\n",
    "merge_layer = Lambda(euclidean_distance)([dense1,dense2])\n",
    "dense_layer = Dense(1, activation=\"sigmoid\")(merge_layer)\n",
    "model = Model(inputs=[input1, input2], outputs=dense_layer)\n"
   ]
  },
  {
   "cell_type": "code",
   "execution_count": 42,
   "id": "f0041e9e",
   "metadata": {},
   "outputs": [
    {
     "name": "stdout",
     "output_type": "stream",
     "text": [
      "__________________________________________________________________________________________________\n",
      "Layer (type)                    Output Shape         Param #     Connected to                     \n",
      "==================================================================================================\n",
      "input_8 (InputLayer)            (None, 28, 28)       0                                            \n",
      "__________________________________________________________________________________________________\n",
      "input_9 (InputLayer)            (None, 28, 28)       0                                            \n",
      "__________________________________________________________________________________________________\n",
      "model_6 (Model)                 (None, 128)          100480      input_8[0][0]                    \n",
      "                                                                 input_9[0][0]                    \n",
      "__________________________________________________________________________________________________\n",
      "lambda_1 (Lambda)               (None, 1)            0           model_6[1][0]                    \n",
      "                                                                 model_6[2][0]                    \n",
      "__________________________________________________________________________________________________\n",
      "dense_9 (Dense)                 (None, 1)            2           lambda_1[0][0]                   \n",
      "==================================================================================================\n",
      "Total params: 100,482\n",
      "Trainable params: 100,482\n",
      "Non-trainable params: 0\n",
      "__________________________________________________________________________________________________\n"
     ]
    }
   ],
   "source": [
    "'''Comprobación de nuevos binarios'''\n",
    "model.compile(loss = \"binary_crossentropy\", optimizer=\"adam\", metrics=[\"accuracy\"])\n",
    "model.summary()"
   ]
  },
  {
   "cell_type": "code",
   "execution_count": 43,
   "id": "7f1de377",
   "metadata": {},
   "outputs": [
    {
     "name": "stdout",
     "output_type": "stream",
     "text": [
      "W&B Run: https://app.wandb.ai/l2k2/siamese/runs/34u8rkzs\n",
      "Call `%%wandb` in the cell containing your training loop to display live results.\n",
      "Epoch 1/10\n",
      "120000/120000 [==============================] - 39s 324us/step - loss: 0.4544 - acc: 0.7934\n",
      "Epoch 2/10\n",
      "120000/120000 [==============================] - 40s 337us/step - loss: 0.3598 - acc: 0.8500\n",
      "Epoch 3/10\n",
      "120000/120000 [==============================] - 40s 336us/step - loss: 0.3391 - acc: 0.8585\n",
      "Epoch 4/10\n",
      "120000/120000 [==============================] - 41s 344us/step - loss: 0.3251 - acc: 0.8645\n",
      "Epoch 5/10\n",
      "120000/120000 [==============================] - 41s 340us/step - loss: 0.3147 - acc: 0.8700\n",
      "Epoch 6/10\n",
      "120000/120000 [==============================] - 39s 328us/step - loss: 0.3116 - acc: 0.8714\n",
      "Epoch 7/10\n",
      "120000/120000 [==============================] - 36s 303us/step - loss: 0.3099 - acc: 0.8720\n",
      "Epoch 8/10\n",
      "120000/120000 [==============================] - 39s 328us/step - loss: 0.3084 - acc: 0.8728\n",
      "Epoch 9/10\n",
      "120000/120000 [==============================] - 40s 333us/step - loss: 0.3073 - acc: 0.8734\n",
      "Epoch 10/10\n",
      "120000/120000 [==============================] - 41s 342us/step - loss: 0.3067 - acc: 0.8750\n"
     ]
    },
    {
     "data": {
      "text/plain": [
       "<keras.callbacks.History at 0x7f59f0da1c88>"
      ]
     },
     "execution_count": 43,
     "metadata": {},
     "output_type": "execute_result"
    }
   ],
   "source": [
    "'''Comprobar modelo'''\n",
    "wandb.init(project=\"siamese\")\n",
    "model.fit([pairs_train[:,0], pairs_train[:,1]], labels_train[:], batch_size=16, epochs=10, callbacks=[WandbCallback()])"
   ]
  },
  {
   "cell_type": "code",
   "execution_count": 44,
   "id": "53fb9dda",
   "metadata": {},
   "outputs": [
    {
     "name": "stdout",
     "output_type": "stream",
     "text": [
      "Accuracy: 87.50\n",
      "F1 score: 69.98\n",
      "Recall: 84.65\n"
     ]
    }
   ],
   "source": [
    "'''Datos estadisticos Finales'''\n",
    "model_probs = model.predict(x_test,batch_size=batch_size,verbose=0)\n",
    "y_pred = model_probs\n",
    "# predict crisp classes for test set\n",
    "model_classes = np.argmax(model_probs,axis=1)\n",
    "# reduce to 1d array\n",
    "model_probs = model_probs[:, 0]\n",
    "\n",
    "y_test_reduced = np.argmax(y_test,axis=1)\n",
    " \n",
    "# accuracy: (tp + tn) / (p + n)\n",
    "accuracy = accuracy_score(y_test_reduced, model_classes)*100\n",
    "# recall: tp / (tp + fn)\n",
    "recall = recall_score(y_test_reduced, model_classes, average='weighted')*100\n",
    "# f1: 2 tp / (2 tp + fp + fn)\n",
    "f1 = f1_score(y_test_reduced, model_classes, average='weighted')*100\n",
    "\n",
    "print('Accuracy: %.2f' % accuracy)\n",
    "print('F1 score: %.2f' % f1)\n",
    "print('Precision: %.2f' % precision)\n",
    "print('Recall: %.2f' % recall)\n"
   ]
  },
  {
   "cell_type": "code",
   "execution_count": 45,
   "id": "19af93a7",
   "metadata": {
    "colab": {
     "base_uri": "https://localhost:8080/",
     "height": 573
    },
    "id": "7rNNDyTa8P_E",
    "outputId": "a5663b64-dafd-464a-96f2-42f19ea22b11"
   },
   "outputs": [
    {
     "data": {
      "image/png": "[encoded data removed]",
      "text/plain": [
       "<Figure size 432x288 with 1 Axes>"
      ]
     },
     "metadata": {
      "needs_background": "light"
     },
     "output_type": "display_data"
    },
    {
     "data": {
      "image/png": "[encoded data removed]",
      "text/plain": [
       "<Figure size 432x288 with 1 Axes>"
      ]
     },
     "metadata": {
      "needs_background": "light"
     },
     "output_type": "display_data"
    }
   ],
   "source": [
    "'''Grafica de Epochs'''\n",
    "plt.plot(model.epoch, model.history[\"loss\"], 'g', label='Training loss')\n",
    "plt.title('Training loss')\n",
    "plt.xlabel('Epochs')\n",
    "plt.ylabel('Loss')\n",
    "plt.legend()\n",
    "plt.show()\n",
    "'''Grafica de Accuracy'''\n",
    "plt.plot(model.epoch, model.history[\"accuracy\"], 'g', label='Training accuracy')\n",
    "plt.title('Training accuracy')\n",
    "plt.xlabel('Epochs')\n",
    "plt.ylabel('Accuracy')\n",
    "plt.legend()\n",
    "plt.show()"
   ]
  },
  {
   "cell_type": "markdown",
   "id": "11614e11",
   "metadata": {},
   "source": [
    "Los resultados"
   ]
  },
  {
   "cell_type": "markdown",
   "id": "6e32d640",
   "metadata": {},
   "source": [
    "# Zero-shot Learning\n"
   ]
  },
  {
   "cell_type": "code",
   "execution_count": 1,
   "id": "0ae12231",
   "metadata": {
    "id": "l7kFNq1SElH2"
   },
   "outputs": [],
   "source": [
    "import tensorflow as tf\n",
    "from tensorflow.keras import backend\n",
    "from tensorflow.python.framework.ops import disable_eager_execution\n",
    "from tensorflow.keras.initializers import RandomNormal\n",
    "from tensorflow.keras.models import Model, Sequential\n",
    "from tensorflow.keras.layers import Input, Dense, ReLU, LeakyReLU, Concatenate\n",
    "from tensorflow.keras.optimizers import Adam\n",
    "from tensorflow.keras.losses import SparseCategoricalCrossentropy\n",
    "from sklearn import preprocessing\n",
    "from sklearn.neighbors import KDTree\n",
    "from functools import partial\n",
    "import numpy as np\n",
    "import scipy.io\n",
    "\n",
    "disable_eager_execution()"
   ]
  },
  {
   "cell_type": "markdown",
   "id": "1e6f3667",
   "metadata": {
    "id": "uXL3jQfMEZWr"
   },
   "source": [
    "### Embedded classifier definition"
   ]
  },
  {
   "cell_type": "code",
   "execution_count": 11,
   "id": "863f2dda",
   "metadata": {
    "id": "dai3eShF4NxV"
   },
   "outputs": [],
   "source": [
    "'''Clases a train'''\n",
    "Class = list()\n",
    "\n",
    "def custom_kernel_init(shape, dtype=None):\n",
    "    return Class.T\n",
    "\n",
    "# Determinación de caracteristica puras de Zero-shot\n",
    "class EmbeddedClassifier:\n",
    "    def __init__(self, signatures, input_shape=INPUT_SHAPE, learning_rate=LEARNING_RATE_CLS, beta=BETA):\n",
    "        self.model = self.__build_model(signatures, input_shape, learning_rate, beta)\n",
    "\n",
    "    def __build_model(self, signatures, input_shape, learning_rate, beta):\n",
    "        global CLASS_VECTORS\n",
    "        CLASS_VECTORS = signatures\n",
    "        model = Sequential()\n",
    "        model.add(Dense(signatures.shape[1], input_shape=(input_shape,), activation='relu', kernel_initializer=RandomNormal(stddev=0.02)))\n",
    "        model.add(Dense(signatures.shape[0], activation='softmax', trainable=False, kernel_initializer=custom_kernel_init))\n",
    "        print('-----------------------')\n",
    "        print('Classifier')\n",
    "        model.summary()\n",
    "        adam = Adam(lr=learning_rate, beta_1=beta)\n",
    "        model.compile(loss=SparseCategoricalCrossentropy(from_logits=True), optimizer=adam, metrics=['accuracy'])\n",
    "        return model\n",
    "\n",
    "    def get_model(self):\n",
    "        return self.model\n",
    "\n",
    "    def train(self, x_train, y_train, n_batch=N_BATCH_CLS, n_epochs=N_EPOCHS_CLS):\n",
    "        self.model.fit(x_train, y_train, verbose=2, epochs=n_epochs, batch_size=n_batch, shuffle=True)\n",
    "\n",
    "    def eval(self, x, y, classnames, signatures):\n",
    "        print()\n",
    "        inp = self.model.input\n",
    "        out = self.model.layers[-2].output\n",
    "        model = Model(inp, out)\n",
    "        predY = model.predict(x)\n",
    "        tree = KDTree(signatures)\n",
    "        top5, top3, top1 = 0, 0, 0\n",
    "        for i, pred in enumerate(predY):\n",
    "            pred = np.expand_dims(pred, axis=0)\n",
    "            dist_5, index_5 = tree.query(pred, k=5)\n",
    "            # TODO fix index_5 \n",
    "            pred_labels = [classnames[index] for index in index_5[0]]\n",
    "            true_label = y[i]\n",
    "            if true_label in pred_labels:\n",
    "                top5 += 1\n",
    "            if true_label in pred_labels[:3]:\n",
    "                top3 += 1\n",
    "            if true_label == pred_labels[0]:\n",
    "                top1 += 1"
   ]
  },
  {
   "cell_type": "markdown",
   "id": "60a5d609",
   "metadata": {
    "id": "s3sYKzOXFxMq"
   },
   "source": [
    "### Método incrustado"
   ]
  },
  {
   "cell_type": "code",
   "execution_count": 12,
   "id": "d3ed243e",
   "metadata": {
    "colab": {
     "base_uri": "https://localhost:8080/"
    },
    "id": "IyDKP1vKFzIU",
    "outputId": "e1a6a909-5b32-4d38-8cb9-878f20830ed4"
   },
   "outputs": [
    {
     "name": "stdout",
     "output_type": "stream",
     "text": [
      "WARNING:tensorflow:From /usr/local/lib/python3.7/dist-packages/tensorflow/python/ops/resource_variable_ops.py:1666: calling BaseResourceVariable.__init__ (from tensorflow.python.ops.resource_variable_ops) with constraint is deprecated and will be removed in a future version.\n",
      "Instructions for updating:\n",
      "If using Keras pass *_constraint arguments to layers.\n",
      "-----------------------\n",
      "Classifier\n",
      "Model: \"sequential\"\n",
      "_________________________________________________________________\n",
      "Layer (type)                 Output Shape              Param #   \n",
      "=================================================================\n",
      "dense (Dense)                (None, 85)                174165    \n",
      "_________________________________________________________________\n",
      "dense_1 (Dense)              (None, 50)                4300      \n",
      "=================================================================\n",
      "Total params: 178,465\n",
      "Trainable params: 174,165\n",
      "Non-trainable params: 4,300\n",
      "_________________________________________________________________\n",
      "Train on 19832 samples\n",
      "Epoch 1/25\n",
      "19832/19832 - 1s - loss: 3.5659 - accuracy: 0.5804\n",
      "Epoch 2/25\n",
      "19832/19832 - 1s - loss: 3.2602 - accuracy: 0.8286\n",
      "Epoch 3/25\n",
      "19832/19832 - 1s - loss: 3.1773 - accuracy: 0.8687\n",
      "Epoch 4/25\n",
      "19832/19832 - 1s - loss: 3.1402 - accuracy: 0.8829\n",
      "Epoch 5/25\n",
      "19832/19832 - 1s - loss: 3.1175 - accuracy: 0.8929\n",
      "Epoch 6/25\n",
      "19832/19832 - 1s - loss: 3.1013 - accuracy: 0.9018\n",
      "Epoch 7/25\n",
      "19832/19832 - 1s - loss: 3.0883 - accuracy: 0.9095\n",
      "Epoch 8/25\n",
      "19832/19832 - 1s - loss: 3.0783 - accuracy: 0.9143\n",
      "Epoch 9/25\n",
      "19832/19832 - 1s - loss: 3.0703 - accuracy: 0.9199\n",
      "Epoch 10/25\n",
      "19832/19832 - 1s - loss: 3.0634 - accuracy: 0.9240\n",
      "Epoch 11/25\n",
      "19832/19832 - 1s - loss: 3.0576 - accuracy: 0.9273\n",
      "Epoch 12/25\n",
      "19832/19832 - 1s - loss: 3.0526 - accuracy: 0.9297\n",
      "Epoch 13/25\n",
      "19832/19832 - 1s - loss: 3.0480 - accuracy: 0.9327\n",
      "Epoch 14/25\n",
      "19832/19832 - 1s - loss: 3.0439 - accuracy: 0.9345\n",
      "Epoch 15/25\n",
      "19832/19832 - 1s - loss: 3.0404 - accuracy: 0.9368\n",
      "Epoch 16/25\n",
      "19832/19832 - 1s - loss: 3.0369 - accuracy: 0.9386\n",
      "Epoch 17/25\n",
      "19832/19832 - 1s - loss: 3.0339 - accuracy: 0.9409\n",
      "Epoch 18/25\n",
      "19832/19832 - 1s - loss: 3.0311 - accuracy: 0.9416\n",
      "Epoch 19/25\n",
      "19832/19832 - 1s - loss: 3.0284 - accuracy: 0.9431\n",
      "Epoch 20/25\n",
      "19832/19832 - 1s - loss: 3.0259 - accuracy: 0.9446\n",
      "Epoch 21/25\n",
      "19832/19832 - 1s - loss: 3.0237 - accuracy: 0.9462\n",
      "Epoch 22/25\n",
      "19832/19832 - 1s - loss: 3.0214 - accuracy: 0.9483\n",
      "Epoch 23/25\n",
      "19832/19832 - 1s - loss: 3.0190 - accuracy: 0.9492\n",
      "Epoch 24/25\n",
      "19832/19832 - 1s - loss: 3.0166 - accuracy: 0.9513\n",
      "Epoch 25/25\n",
      "19832/19832 - 1s - loss: 3.0144 - accuracy: 0.9531\n"
     ]
    }
   ],
   "source": [
    "'''Transfer Learning'''\n",
    "cls = EmbeddedClassifier(signatures)\n",
    "cls.train(train_seenX, train_seenY)\n",
    "signatures_eval = signatures if GZSL else signatures[labels['test_unseen'], :]\n",
    "cls.eval(test_unseenX, test_unseenY, classnames, signatures_eval)\n",
    "cls.eval(test_seenX, test_seenY, classnames, signatures_eval)"
   ]
  },
  {
   "cell_type": "code",
   "execution_count": 44,
   "id": "a8b44102",
   "metadata": {},
   "outputs": [
    {
     "name": "stdout",
     "output_type": "stream",
     "text": [
      "Accuracy: 95.31\n",
      "F1 score: 89.43\n",
      "Recall: 91.23\n"
     ]
    }
   ],
   "source": [
    "'''Datos estadisticos Finales'''\n",
    "model_probs = model.predict(x_test,batch_size=batch_size,verbose=0)\n",
    "y_pred = model_probs\n",
    "# predict crisp classes for test set\n",
    "model_classes = np.argmax(model_probs,axis=1)\n",
    "# reduce to 1d array\n",
    "model_probs = model_probs[:, 0]\n",
    "\n",
    "y_test_reduced = np.argmax(y_test,axis=1)\n",
    " \n",
    "# accuracy: (tp + tn) / (p + n)\n",
    "accuracy = accuracy_score(y_test_reduced, model_classes)*100\n",
    "# recall: tp / (tp + fn)\n",
    "recall = recall_score(y_test_reduced, model_classes, average='weighted')*100\n",
    "# f1: 2 tp / (2 tp + fp + fn)\n",
    "f1 = f1_score(y_test_reduced, model_classes, average='weighted')*100\n",
    "\n",
    "print('Accuracy: %.2f' % accuracy)\n",
    "print('F1 score: %.2f' % f1)\n",
    "print('Recall: %.2f' % recall)"
   ]
  },
  {
   "cell_type": "code",
   "execution_count": 14,
   "id": "bd4ee82c",
   "metadata": {
    "colab": {
     "base_uri": "https://localhost:8080/",
     "height": 295
    },
    "id": "bzKs09i6GLZx",
    "outputId": "42837db3-988c-4e05-90b8-8fdf094bbc04"
   },
   "outputs": [
    {
     "data": {
      "image/png": "[encoded data removed]",
      "text/plain": [
       "<Figure size 432x288 with 1 Axes>"
      ]
     },
     "metadata": {
      "needs_background": "light"
     },
     "output_type": "display_data"
    }
   ],
   "source": [
    "'''Figura de Training process'''\n",
    "def plot_hist(hist):\n",
    "    plt.plot(hist.history[\"accuracy\"])\n",
    "    plt.plot(hist.history[\"val_accuracy\"])\n",
    "    plt.plot(hist.history[\"loss\"])\n",
    "    plt.plot(hist.history[\"val_loss\"])\n",
    "    plt.title(\"Training Progress\")\n",
    "    plt.ylabel(\"Accuracy/Loss\")\n",
    "    plt.xlabel(\"Epochs\")\n",
    "    plt.legend([\"train_acc\", \"val_acc\", \"train_loss\", \"val_loss\"], loc=\"upper left\")\n",
    "    plt.show()\n",
    "\n",
    "plot_hist(history)"
   ]
  },
  {
   "cell_type": "markdown",
   "id": "29ac0b48",
   "metadata": {},
   "source": [
    "DEDUCCION"
   ]
  }
 ],
 "metadata": {
  "accelerator": "GPU",
  "colab": {
   "authorship_tag": "ABX9TyPreavICEbpxzdMEd2S2sqf",
   "collapsed_sections": [],
   "include_colab_link": true,
   "name": "AlexNet implementation",
   "provenance": []
  },
  "kernelspec": {
   "display_name": "Python 3 (ipykernel)",
   "language": "python",
   "name": "python3"
  },
  "language_info": {
   "codemirror_mode": {
    "name": "ipython",
    "version": 3
   },
   "file_extension": ".py",
   "mimetype": "text/x-python",
   "name": "python",
   "nbconvert_exporter": "python",
   "pygments_lexer": "ipython3",
   "version": "3.9.12"
  },
  "vscode": {
   "interpreter": {
    "hash": "f5b39627973f3d41197536d1010f9865eb97092b257fe4cc48fe612ffbfa825a"
   }
  }
 },
 "nbformat": 4,
 "nbformat_minor": 5
}
